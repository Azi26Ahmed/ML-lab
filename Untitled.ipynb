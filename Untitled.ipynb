{
 "cells": [
  {
   "cell_type": "code",
   "execution_count": 73,
   "id": "9f54d44b-4911-486b-9f2d-2dd56e2bb5d7",
   "metadata": {},
   "outputs": [
    {
     "data": {
      "text/html": [
       "<div>\n",
       "<style scoped>\n",
       "    .dataframe tbody tr th:only-of-type {\n",
       "        vertical-align: middle;\n",
       "    }\n",
       "\n",
       "    .dataframe tbody tr th {\n",
       "        vertical-align: top;\n",
       "    }\n",
       "\n",
       "    .dataframe thead th {\n",
       "        text-align: right;\n",
       "    }\n",
       "</style>\n",
       "<table border=\"1\" class=\"dataframe\">\n",
       "  <thead>\n",
       "    <tr style=\"text-align: right;\">\n",
       "      <th></th>\n",
       "      <th>emp_id</th>\n",
       "      <th>emp_name</th>\n",
       "      <th>salary</th>\n",
       "    </tr>\n",
       "  </thead>\n",
       "  <tbody>\n",
       "    <tr>\n",
       "      <th>0</th>\n",
       "      <td>57</td>\n",
       "      <td>john</td>\n",
       "      <td>85000</td>\n",
       "    </tr>\n",
       "    <tr>\n",
       "      <th>1</th>\n",
       "      <td>58</td>\n",
       "      <td>smith</td>\n",
       "      <td>90000</td>\n",
       "    </tr>\n",
       "    <tr>\n",
       "      <th>2</th>\n",
       "      <td>59</td>\n",
       "      <td>alice</td>\n",
       "      <td>75000</td>\n",
       "    </tr>\n",
       "    <tr>\n",
       "      <th>3</th>\n",
       "      <td>60</td>\n",
       "      <td>bob</td>\n",
       "      <td>80000</td>\n",
       "    </tr>\n",
       "    <tr>\n",
       "      <th>4</th>\n",
       "      <td>61</td>\n",
       "      <td>jack</td>\n",
       "      <td>95000</td>\n",
       "    </tr>\n",
       "  </tbody>\n",
       "</table>\n",
       "</div>"
      ],
      "text/plain": [
       "   emp_id emp_name  salary\n",
       "0      57     john   85000\n",
       "1      58    smith   90000\n",
       "2      59    alice   75000\n",
       "3      60      bob   80000\n",
       "4      61     jack   95000"
      ]
     },
     "execution_count": 73,
     "metadata": {},
     "output_type": "execute_result"
    }
   ],
   "source": [
    "import pandas as pd\n",
    "data=pd.read_csv('employee.csv')\n",
    "data.head()"
   ]
  },
  {
   "cell_type": "code",
   "execution_count": 75,
   "id": "2256022a-80a5-47f6-b91a-a58de9ba52b7",
   "metadata": {},
   "outputs": [
    {
     "name": "stdout",
     "output_type": "stream",
     "text": [
      "   emp_id emp_name  salary\n",
      "0      57     john   85000\n",
      "1      58    smith   90000\n",
      "4      61     jack   95000\n"
     ]
    }
   ],
   "source": [
    "r=data[data['salary']>80000]\n",
    "print(r)"
   ]
  },
  {
   "cell_type": "code",
   "execution_count": 87,
   "id": "52f395e5-ea37-4574-a708-99cd08b49135",
   "metadata": {},
   "outputs": [
    {
     "name": "stdout",
     "output_type": "stream",
     "text": [
      "[-0.15206735+0.j 13.15206735+0.j]\n",
      "[[-0.75868086 -0.59276441]\n",
      " [ 0.65146248 -0.80537591]]\n"
     ]
    }
   ],
   "source": [
    "import numpy as np\n",
    "arr2=np.array([[1,2],[3,4]])\n",
    "arr1=np.array([[5,6],[7,8]])\n",
    "c=np.dot(arr2,arr1)\n",
    "inv=linalg.inv(arr1)\n",
    "evalue,evector=linalg.eig(arr1)\n",
    "print(evalue)\n",
    "print(evector)\n"
   ]
  },
  {
   "cell_type": "code",
   "execution_count": 89,
   "id": "02354360-abe5-407b-b455-00feaaf9ed09",
   "metadata": {},
   "outputs": [
    {
     "name": "stdout",
     "output_type": "stream",
     "text": [
      "Slope:  1.0\n",
      "Intercept:  1.0\n",
      "R-Squared:  1.0\n"
     ]
    }
   ],
   "source": [
    "import numpy as np\n",
    "from scipy.stats import linregress \n",
    "x=np.array([1,2,3,4,5]) \n",
    "y=np.array([2,3,4,5,6])\n",
    "slope,intercept,rvalue,pvalue,std_err=linregress(x,y)\n",
    "print(\"Slope: \",slope) \n",
    "print(\"Intercept: \",intercept) \n",
    "print(\"R-Squared: \",r_value**2)"
   ]
  },
  {
   "cell_type": "code",
   "execution_count": 134,
   "id": "d0c2bcab-03f3-48f4-b280-aa1f8aceaf20",
   "metadata": {},
   "outputs": [
    {
     "name": "stdout",
     "output_type": "stream",
     "text": [
      "[1]\n"
     ]
    }
   ],
   "source": [
    "print(dtree.predict([[40,10,7,1]]))"
   ]
  },
  {
   "cell_type": "code",
   "execution_count": 31,
   "id": "de534a4a-2868-47dd-aff2-5edcd1d63822",
   "metadata": {},
   "outputs": [],
   "source": [
    "import pandas as pd\n",
    "from sklearn.tree import *\n",
    "from sklearn import *\n",
    "import matplotlib.pyplot as plt\n",
    "%matplotlib inline"
   ]
  },
  {
   "cell_type": "code",
   "execution_count": 32,
   "id": "3a55f3a2-f9c0-4e6d-86b2-65443010811b",
   "metadata": {},
   "outputs": [],
   "source": [
    "df=pd.read_csv('dataset.csv')"
   ]
  },
  {
   "cell_type": "code",
   "execution_count": 33,
   "id": "4fbe5f36-f1b6-400d-add4-40fb448b8e87",
   "metadata": {},
   "outputs": [
    {
     "data": {
      "text/html": [
       "<div>\n",
       "<style scoped>\n",
       "    .dataframe tbody tr th:only-of-type {\n",
       "        vertical-align: middle;\n",
       "    }\n",
       "\n",
       "    .dataframe tbody tr th {\n",
       "        vertical-align: top;\n",
       "    }\n",
       "\n",
       "    .dataframe thead th {\n",
       "        text-align: right;\n",
       "    }\n",
       "</style>\n",
       "<table border=\"1\" class=\"dataframe\">\n",
       "  <thead>\n",
       "    <tr style=\"text-align: right;\">\n",
       "      <th></th>\n",
       "      <th>age</th>\n",
       "      <th>experience</th>\n",
       "      <th>rank</th>\n",
       "      <th>nationality</th>\n",
       "      <th>go</th>\n",
       "    </tr>\n",
       "  </thead>\n",
       "  <tbody>\n",
       "    <tr>\n",
       "      <th>0</th>\n",
       "      <td>36</td>\n",
       "      <td>10</td>\n",
       "      <td>9</td>\n",
       "      <td>uk</td>\n",
       "      <td>no</td>\n",
       "    </tr>\n",
       "    <tr>\n",
       "      <th>1</th>\n",
       "      <td>42</td>\n",
       "      <td>12</td>\n",
       "      <td>4</td>\n",
       "      <td>usa</td>\n",
       "      <td>no</td>\n",
       "    </tr>\n",
       "    <tr>\n",
       "      <th>2</th>\n",
       "      <td>23</td>\n",
       "      <td>4</td>\n",
       "      <td>6</td>\n",
       "      <td>n</td>\n",
       "      <td>no</td>\n",
       "    </tr>\n",
       "    <tr>\n",
       "      <th>3</th>\n",
       "      <td>52</td>\n",
       "      <td>4</td>\n",
       "      <td>4</td>\n",
       "      <td>usa</td>\n",
       "      <td>no</td>\n",
       "    </tr>\n",
       "    <tr>\n",
       "      <th>4</th>\n",
       "      <td>43</td>\n",
       "      <td>21</td>\n",
       "      <td>8</td>\n",
       "      <td>usa</td>\n",
       "      <td>yes</td>\n",
       "    </tr>\n",
       "    <tr>\n",
       "      <th>5</th>\n",
       "      <td>44</td>\n",
       "      <td>14</td>\n",
       "      <td>5</td>\n",
       "      <td>uk</td>\n",
       "      <td>no</td>\n",
       "    </tr>\n",
       "    <tr>\n",
       "      <th>6</th>\n",
       "      <td>66</td>\n",
       "      <td>3</td>\n",
       "      <td>7</td>\n",
       "      <td>n</td>\n",
       "      <td>yes</td>\n",
       "    </tr>\n",
       "    <tr>\n",
       "      <th>7</th>\n",
       "      <td>35</td>\n",
       "      <td>14</td>\n",
       "      <td>9</td>\n",
       "      <td>uk</td>\n",
       "      <td>yes</td>\n",
       "    </tr>\n",
       "    <tr>\n",
       "      <th>8</th>\n",
       "      <td>52</td>\n",
       "      <td>13</td>\n",
       "      <td>7</td>\n",
       "      <td>n</td>\n",
       "      <td>yes</td>\n",
       "    </tr>\n",
       "    <tr>\n",
       "      <th>9</th>\n",
       "      <td>35</td>\n",
       "      <td>5</td>\n",
       "      <td>9</td>\n",
       "      <td>n</td>\n",
       "      <td>yes</td>\n",
       "    </tr>\n",
       "    <tr>\n",
       "      <th>10</th>\n",
       "      <td>24</td>\n",
       "      <td>3</td>\n",
       "      <td>5</td>\n",
       "      <td>usa</td>\n",
       "      <td>no</td>\n",
       "    </tr>\n",
       "    <tr>\n",
       "      <th>11</th>\n",
       "      <td>18</td>\n",
       "      <td>3</td>\n",
       "      <td>7</td>\n",
       "      <td>uk</td>\n",
       "      <td>yes</td>\n",
       "    </tr>\n",
       "    <tr>\n",
       "      <th>12</th>\n",
       "      <td>45</td>\n",
       "      <td>9</td>\n",
       "      <td>9</td>\n",
       "      <td>uk</td>\n",
       "      <td>yes</td>\n",
       "    </tr>\n",
       "  </tbody>\n",
       "</table>\n",
       "</div>"
      ],
      "text/plain": [
       "    age  experience  rank nationality   go\n",
       "0    36          10     9          uk   no\n",
       "1    42          12     4         usa   no\n",
       "2    23           4     6           n   no\n",
       "3    52           4     4         usa   no\n",
       "4    43          21     8         usa  yes\n",
       "5    44          14     5          uk   no\n",
       "6    66           3     7           n  yes\n",
       "7    35          14     9          uk  yes\n",
       "8    52          13     7           n  yes\n",
       "9    35           5     9           n  yes\n",
       "10   24           3     5         usa   no\n",
       "11   18           3     7          uk  yes\n",
       "12   45           9     9          uk  yes"
      ]
     },
     "execution_count": 33,
     "metadata": {},
     "output_type": "execute_result"
    }
   ],
   "source": [
    "df"
   ]
  },
  {
   "cell_type": "code",
   "execution_count": 34,
   "id": "d09a7849-fdfc-4828-8db0-b9b90f939a60",
   "metadata": {},
   "outputs": [],
   "source": [
    "d={'usa':1,'uk':2,'n':0}"
   ]
  },
  {
   "cell_type": "code",
   "execution_count": 35,
   "id": "72ec470c-8ac5-4c31-b4c1-533d3bb2ac51",
   "metadata": {},
   "outputs": [],
   "source": [
    "df['nationality']=df['nationality'].map(d)"
   ]
  },
  {
   "cell_type": "code",
   "execution_count": 36,
   "id": "0c9c4597-7171-4c49-ae10-8bf02fd8c7f0",
   "metadata": {},
   "outputs": [],
   "source": [
    "d={'yes':1,'no':0}"
   ]
  },
  {
   "cell_type": "code",
   "execution_count": 37,
   "id": "7b513a46-c274-4f40-a666-a3b5ad5ee7fb",
   "metadata": {},
   "outputs": [],
   "source": [
    "df['go']=df['go'].map(d)"
   ]
  },
  {
   "cell_type": "code",
   "execution_count": 38,
   "id": "d15beb51-7eab-43c5-b219-09d36497d40e",
   "metadata": {},
   "outputs": [],
   "source": [
    "features=['age','experience','rank','nationality']"
   ]
  },
  {
   "cell_type": "code",
   "execution_count": 39,
   "id": "41641a09-d7ab-4582-8016-299341cab490",
   "metadata": {},
   "outputs": [],
   "source": [
    "x=df[features]"
   ]
  },
  {
   "cell_type": "code",
   "execution_count": 40,
   "id": "a1636e21-c848-4927-b9ed-ebfa2f9260c8",
   "metadata": {},
   "outputs": [],
   "source": [
    "y=df['go']"
   ]
  },
  {
   "cell_type": "code",
   "execution_count": 43,
   "id": "e7c920c5-1ef1-4333-b518-e826cd12ca9e",
   "metadata": {},
   "outputs": [],
   "source": [
    "dtree=DecisionTreeClassifier(criterion='entropy')"
   ]
  },
  {
   "cell_type": "code",
   "execution_count": 44,
   "id": "dd68659e-2916-47a9-92d2-ce82d6261bab",
   "metadata": {},
   "outputs": [],
   "source": [
    "dtree=dtree.fit(x,y)"
   ]
  },
  {
   "cell_type": "code",
   "execution_count": 46,
   "id": "4412e663-9988-48c1-a69f-da095fded33d",
   "metadata": {},
   "outputs": [
    {
     "data": {
      "text/plain": [
       "[Text(0.2857142857142857, 0.9, 'rank <= 6.5\\nentropy = 0.996\\nsamples = 13\\nvalue = [6, 7]'),\n",
       " Text(0.14285714285714285, 0.7, 'entropy = 0.0\\nsamples = 5\\nvalue = [5, 0]'),\n",
       " Text(0.42857142857142855, 0.7, 'nationality <= 1.5\\nentropy = 0.544\\nsamples = 8\\nvalue = [1, 7]'),\n",
       " Text(0.2857142857142857, 0.5, 'entropy = 0.0\\nsamples = 4\\nvalue = [0, 4]'),\n",
       " Text(0.5714285714285714, 0.5, 'experience <= 9.5\\nentropy = 0.811\\nsamples = 4\\nvalue = [1, 3]'),\n",
       " Text(0.42857142857142855, 0.3, 'entropy = 0.0\\nsamples = 2\\nvalue = [0, 2]'),\n",
       " Text(0.7142857142857143, 0.3, 'experience <= 12.0\\nentropy = 1.0\\nsamples = 2\\nvalue = [1, 1]'),\n",
       " Text(0.5714285714285714, 0.1, 'entropy = 0.0\\nsamples = 1\\nvalue = [1, 0]'),\n",
       " Text(0.8571428571428571, 0.1, 'entropy = 0.0\\nsamples = 1\\nvalue = [0, 1]')]"
      ]
     },
     "execution_count": 46,
     "metadata": {},
     "output_type": "execute_result"
    },
    {
     "data": {
      "image/png": "[encoded data removed]",
      "text/plain": [
       "<Figure size 640x480 with 1 Axes>"
      ]
     },
     "metadata": {},
     "output_type": "display_data"
    }
   ],
   "source": [
    "tree.plot_tree(dtree,feature_names=features)"
   ]
  },
  {
   "cell_type": "code",
   "execution_count": 47,
   "id": "6be4ef52-8d7b-433c-9c6e-80c5a737b9d3",
   "metadata": {},
   "outputs": [
    {
     "name": "stdout",
     "output_type": "stream",
     "text": [
      "[1]\n"
     ]
    },
    {
     "name": "stderr",
     "output_type": "stream",
     "text": [
      "D:\\Documents\\one\\Lib\\site-packages\\sklearn\\base.py:439: UserWarning: X does not have valid feature names, but DecisionTreeClassifier was fitted with feature names\n",
      "  warnings.warn(\n"
     ]
    }
   ],
   "source": [
    "print(dtree.predict([[40,10,7,1]]))"
   ]
  },
  {
   "cell_type": "code",
   "execution_count": 48,
   "id": "2899a061-c2d3-40e2-9e6b-ff9cbd66dbb5",
   "metadata": {},
   "outputs": [],
   "source": [
    "from sklearn import *\n",
    "x,y=make_classification(n_samples=10,n_features=5,n_informative=3,n_redundant=2,random_state=1)"
   ]
  },
  {
   "cell_type": "code",
   "execution_count": 49,
   "id": "dec94788-1adf-4ffe-923c-4a34d4fd4ef1",
   "metadata": {},
   "outputs": [
    {
     "name": "stdout",
     "output_type": "stream",
     "text": [
      "[[ 1.34369387 -0.85495306 -0.95689766  0.43308329 -1.48208447]\n",
      " [ 0.80058224 -0.56144342 -1.65394952  0.53947899 -0.76973263]\n",
      " [-0.51593688  0.28355232  0.94323132 -0.35310377  0.24632251]\n",
      " [-1.11423869  0.58471231 -1.27790733  0.16601601  1.35574421]\n",
      " [ 0.27634196  0.23709937  0.33878658  0.14946257  1.04378255]\n",
      " [ 2.67528111 -0.49925637  0.53668903  0.78746265  0.73213908]\n",
      " [ 0.24453482  0.17819263  1.48992613 -0.22252803  0.47718041]\n",
      " [ 1.5218899  -0.4873393   0.6987685   0.23130884 -0.43075796]\n",
      " [-1.54410868  0.74435211  0.07956146 -0.33022242  1.12372909]\n",
      " [ 2.8406989  -0.59904142  1.72519473  0.47205221  0.20535113]]\n"
     ]
    }
   ],
   "source": [
    "print(x)"
   ]
  },
  {
   "cell_type": "code",
   "execution_count": 52,
   "id": "71959add-3e01-420d-b125-3394bbaaf12f",
   "metadata": {},
   "outputs": [],
   "source": [
    "from sklearn.cluster import KMeans \n",
    "import numpy as np "
   ]
  },
  {
   "cell_type": "code",
   "execution_count": 55,
   "id": "4cdd95b5-b3c5-4977-9784-1dd458c7233d",
   "metadata": {},
   "outputs": [
    {
     "name": "stdout",
     "output_type": "stream",
     "text": [
      "[0]\n"
     ]
    }
   ],
   "source": [
    "X=np.array([[1.7,1.5],[0.1,0.7],[0.35,1.24],[0.94,1.56],[1.26,1.106],[1.54,0.41],[0.45,1.79],[0.77,0.18]]) \n",
    "kmeans=KMeans(n_clusters=2).fit(X) \n",
    "output=kmeans.predict([[1.71,1.58]]) \n",
    "print(output) "
   ]
  },
  {
   "cell_type": "code",
   "execution_count": 73,
   "id": "1720fd3d-ef18-470e-8864-4edcb388cfdd",
   "metadata": {},
   "outputs": [],
   "source": [
    "import numpy as np \n",
    "import matplotlib.pyplot as plt \n",
    "from sklearn import *"
   ]
  },
  {
   "cell_type": "code",
   "execution_count": 89,
   "id": "0ff98134-5b0d-4708-94b9-7ba38f43f8dd",
   "metadata": {},
   "outputs": [],
   "source": [
    "#np.random.seed(0) \n",
    "X=2*np.random.rand(100,1) \n",
    "y=4+3*X + np.random.randn(100,1) \n"
   ]
  },
  {
   "cell_type": "code",
   "execution_count": 90,
   "id": "552e82cf-9ba7-4111-a0d1-b2dd790f3f3a",
   "metadata": {},
   "outputs": [],
   "source": [
    "model=LinearRegression() \n",
    "model.fit(X,y) \n",
    "X_new=np.array([[0],[2]]) \n",
    "y_predict=model.predict(X_new) "
   ]
  },
  {
   "cell_type": "code",
   "execution_count": 96,
   "id": "09086afc-2b93-4e94-874b-df31ba620967",
   "metadata": {},
   "outputs": [
    {
     "data": {
      "image/png": "[encoded data removed]",
      "text/plain": [
       "<Figure size 640x480 with 1 Axes>"
      ]
     },
     "metadata": {},
     "output_type": "display_data"
    }
   ],
   "source": [
    "plt.plot(X_new,y_predict,\"r-\",linewidth=2) \n",
    "plt.plot(X,y,\"b.\")\n",
    "plt.show() "
   ]
  },
  {
   "cell_type": "code",
   "execution_count": 98,
   "id": "ad36bc66-1102-464f-98f9-98a50ba940ba",
   "metadata": {},
   "outputs": [
    {
     "name": "stdout",
     "output_type": "stream",
     "text": [
      "Intercept:  [4.10189775]\n",
      "Coefficient:  [[2.77998374]]\n"
     ]
    }
   ],
   "source": [
    "\n",
    "print(\"Intercept: \",model.intercept_) \n",
    "print(\"Coefficient: \", model.coef_)"
   ]
  },
  {
   "cell_type": "code",
   "execution_count": 82,
   "id": "3589e2c0-385a-4d6d-b5ad-a9e24057ba00",
   "metadata": {},
   "outputs": [
    {
     "name": "stdout",
     "output_type": "stream",
     "text": [
      "[0]\n"
     ]
    }
   ],
   "source": [
    "import numpy \n",
    "from sklearn.ensemble import *\n",
    "%matplotlib inline \n",
    "X=numpy.array([3.78,2.44,2.09,0.14,1.72,1.65,4.92,4.37,4.96,4.52,3.69,5.88]).reshape(-1,1) \n",
    "y=numpy.array([0,0,0,0,0,0,1,1,1,1,1,1]) \n",
    "logr=linear_model.LogisticRegression() \n",
    "logr.fit(X,y) \n",
    "predicted=logr.predict(numpy.array([3.46]).reshape(-1,1)) \n",
    "print(predicted) "
   ]
  },
  {
   "cell_type": "code",
   "execution_count": 84,
   "id": "30539568-6be0-4b08-b160-59efa6c730bc",
   "metadata": {},
   "outputs": [],
   "source": [
    "from sklearn.neighbors import KNeighborsClassifier \n",
    "from sklearn.model_selection import train_test_split \n",
    "from sklearn.datasets import load_iris \n",
    "import random"
   ]
  },
  {
   "cell_type": "code",
   "execution_count": 85,
   "id": "855f17ef-26ca-4d31-83fb-4ab47ac5e8a4",
   "metadata": {},
   "outputs": [],
   "source": [
    "data_iris=load_iris() \n",
    "label_target=data_iris.target_names"
   ]
  },
  {
   "cell_type": "code",
   "execution_count": 86,
   "id": "b0f2cab6-f906-4aa3-9c15-30fbed60bd5e",
   "metadata": {},
   "outputs": [
    {
     "name": "stdout",
     "output_type": "stream",
     "text": [
      "\n",
      "Sample data from the iris dataset: \n",
      "******************************\n",
      "[5.  2.3 3.3 1. ] ==> versicolor\n",
      "[4.6 3.6 1.  0.2] ==> setosa\n",
      "[4.9 2.4 3.3 1. ] ==> versicolor\n",
      "[4.4 3.2 1.3 0.2] ==> setosa\n",
      "[6.3 2.3 4.4 1.3] ==> versicolor\n",
      "[5.5 2.4 3.8 1.1] ==> versicolor\n",
      "[5.1 3.3 1.7 0.5] ==> setosa\n",
      "[4.4 3.  1.3 0.2] ==> setosa\n",
      "[6.8 2.8 4.8 1.4] ==> versicolor\n",
      "[6.  3.4 4.5 1.6] ==> versicolor\n"
     ]
    }
   ],
   "source": [
    "print() \n",
    "print(\"Sample data from the iris dataset: \") \n",
    "print(\"*\"*30) \n",
    "for i in range(10): \n",
    "    rn=random.randint(0,120) \n",
    "    print(data_iris.data[rn],\"==>\",label_target[data_iris.target[rn]])"
   ]
  },
  {
   "cell_type": "code",
   "execution_count": 87,
   "id": "03074eb0-e77c-4a78-b07f-561361371f7d",
   "metadata": {},
   "outputs": [],
   "source": [
    "X=data_iris.data \n",
    "y=data_iris.target \n",
    "X_train,X_test,y_train,y_test=train_test_split(X,y,test_size=0.2,random_state=8)"
   ]
  },
  {
   "cell_type": "code",
   "execution_count": 88,
   "id": "8cc17601-9abb-4836-bfd9-990d057cafff",
   "metadata": {},
   "outputs": [
    {
     "name": "stdin",
     "output_type": "stream",
     "text": [
      "Enter number of neighbors:  5\n",
      "Enter test data:  5.5,2.4,5.5,5.0\n"
     ]
    },
    {
     "name": "stdout",
     "output_type": "stream",
     "text": [
      "\n",
      "Predicted output is:  ['virginica']\n"
     ]
    }
   ],
   "source": [
    "try: \n",
    "    nn=int(input(\"Enter number of neighbors: \")) \n",
    "    knn=KNeighborsClassifier(nn) \n",
    "    knn.fit(X_train,y_train) \n",
    "    test_data=input(\"Enter test data: \").split(\",\") \n",
    "    for i in range(len(test_data)): \n",
    "        test_data[i]=float(test_data[i]) \n",
    "    print() \n",
    "    v=knn.predict([test_data]) \n",
    "    print(\"Predicted output is: \", label_target[v]) \n",
    "except: \n",
    "    print(\"Please provide valid input...\")"
   ]
  },
  {
   "cell_type": "code",
   "execution_count": 102,
   "id": "a7a75a70-3bd9-4cbd-8352-67404fd0623b",
   "metadata": {},
   "outputs": [],
   "source": [
    "import numpy \n",
    "from sklearn import *\n",
    "%matplotlib inline "
   ]
  },
  {
   "cell_type": "code",
   "execution_count": 103,
   "id": "01f2c7c2-68ac-4c97-93dc-bf8a43dc3504",
   "metadata": {},
   "outputs": [],
   "source": [
    "X=numpy.array([3.78,2.44,2.09,0.14,1.72,1.65,4.92,4.37,4.96,4.52,3.69,5.88]).reshape(-1,1) \n",
    "y=numpy.array([0,0,0,0,0,0,1,1,1,1,1,1]) "
   ]
  },
  {
   "cell_type": "code",
   "execution_count": 104,
   "id": "cfdddc1d-3b49-4575-99f0-6c9884ecd3ff",
   "metadata": {},
   "outputs": [
    {
     "name": "stdout",
     "output_type": "stream",
     "text": [
      "[0]\n"
     ]
    }
   ],
   "source": [
    "logr=linear_model.LogisticRegression() \n",
    "logr.fit(X,y) \n",
    "predicted=logr.predict(numpy.array([3.46]).reshape(-1,1)) \n",
    "print(predicted)"
   ]
  },
  {
   "cell_type": "code",
   "execution_count": 108,
   "id": "29c79841-f746-4d12-9a67-8cfcff385d08",
   "metadata": {},
   "outputs": [
    {
     "name": "stdout",
     "output_type": "stream",
     "text": [
      "(10, 5) (10,)\n"
     ]
    }
   ],
   "source": [
    "from sklearn import * \n",
    "X,y=make_classification(n_samples=10,n_features=5,n_informative=3) \n",
    "print(X.shape,y.shape)\n",
    "#print(X)"
   ]
  },
  {
   "cell_type": "code",
   "execution_count": 109,
   "id": "3b1598ca-9acf-4082-a466-e2d514163d70",
   "metadata": {},
   "outputs": [],
   "source": [
    "import numpy as np \n",
    "import matplotlib.pyplot as plt \n",
    "from sklearn.linear_model import LinearRegression \n"
   ]
  },
  {
   "cell_type": "code",
   "execution_count": 120,
   "id": "0a8ce74d-37f8-4693-97db-822343e3b0ff",
   "metadata": {},
   "outputs": [
    {
     "name": "stdout",
     "output_type": "stream",
     "text": [
      "Predicted class: 0\n"
     ]
    }
   ],
   "source": [
    "from sklearn import *\n",
    "X,y=make_classification(n_samples=10,n_features=5,n_informative=2,n_redundant=2,random_state=1) \n",
    "model=BaggingClassifier()\n",
    "model.fit(X,y) \n",
    "row=[[1,2,3,4,5]] \n",
    "predicted=model.predict(row) \n",
    "print('Predicted class: %d' %predicted) "
   ]
  },
  {
   "cell_type": "code",
   "execution_count": 123,
   "id": "de484f9f-e76d-4ad3-a432-c0003515f69e",
   "metadata": {},
   "outputs": [
    {
     "name": "stdout",
     "output_type": "stream",
     "text": [
      "Predicted class: 0\n"
     ]
    }
   ],
   "source": [
    "from sklearn import *\n",
    "X,y=make_classification(n_samples=10,n_features=5,n_informative=2,n_redundant=2,random_state=1) \n",
    "model=GradientBoostingClassifier() \n",
    "model.fit(X,y) \n",
    "row=[[1,2,3,4,5]] \n",
    "predicted=model.predict(row) \n",
    "print('Predicted class: %d' %predicted[0])"
   ]
  },
  {
   "cell_type": "code",
   "execution_count": null,
   "id": "d786ee0c-3b0d-42cc-8455-a9c6fa899d20",
   "metadata": {},
   "outputs": [],
   "source": [
    "X=2*np.random.rand(100,1) \n",
    "y=4+3*X + np.random.rand(100,1) \n",
    "model=LinearRegression() \n",
    "model.fit(X,y) \n",
    "X_test=np.array([[0],[2]]) \n",
    "y_predict=model.predict(X_test) \n",
    "plt.plot(X_test,y_predict,\"r-\",linewidth=2) \n",
    "plt.plot(X,y,\"b.\") \n",
    "plt.axis([0,2,0,15]) \n",
    "plt.show() \n",
    "print(\"Intercept: \",model.intercept_) \n",
    "print(\"Coefficient: \", model.coef_)"
   ]
  },
  {
   "cell_type": "code",
   "execution_count": 148,
   "id": "b60e87bf-1612-409a-af19-50cfd2f38f0b",
   "metadata": {},
   "outputs": [
    {
     "name": "stdout",
     "output_type": "stream",
     "text": [
      "Prediction:  [1]\n"
     ]
    }
   ],
   "source": [
    "import pandas as pd \n",
    "import numpy as np \n",
    "from sklearn.ensemble import RandomForestClassifier \n",
    "from sklearn.model_selection import RandomizedSearchCV,train_test_split \n"
   ]
  },
  {
   "cell_type": "code",
   "execution_count": 156,
   "id": "790de13d-5c71-4e00-942f-408d6b4fa689",
   "metadata": {},
   "outputs": [
    {
     "name": "stdout",
     "output_type": "stream",
     "text": [
      "   age  default  cons.price  cons.conf    y\n",
      "0   30       no      92.893      -46.2   no\n",
      "1   50      yes      93.994      -36.4  yes\n",
      "2   35       no      93.075      -42.8   no\n",
      "3   40  unknown      92.201      -26.9  yes\n",
      "4   55       no      93.918      -31.4  yes\n",
      "Prediction:  ['yes']\n"
     ]
    }
   ],
   "source": [
    "bank_data=pd.read_csv(\"bank.csv\") \n",
    "print(bank_data)\n",
    "bank_data['default']=bank_data['default'].map({'no':0,'yes':1,'unknown':0})\n",
    "X=bank_data.drop('y',axis=1) \n",
    "y=bank_data['y'] \n",
    "X_train,X_test,y_train,y_test=train_test_split(X,y,test_size=0.2) \n",
    "rf=RandomForestClassifier() \n",
    "rf.fit(X_train,y_train) \n",
    "row=[[1,57,0,93.994]] \n",
    "y_pred=rf.predict(row) \n",
    "print('Prediction: ',y_pred)"
   ]
  },
  {
   "cell_type": "code",
   "execution_count": 167,
   "id": "88c14388-0fed-42b8-b27a-64dea19db979",
   "metadata": {},
   "outputs": [
    {
     "name": "stdout",
     "output_type": "stream",
     "text": [
      "[1]\n"
     ]
    }
   ],
   "source": [
    "from sklearn import * \n",
    "import numpy as np  \n",
    "X=np.random.rand(8,2)\n",
    "y=np.array([0,0,0,0,1,1,1,1]) \n",
    "model=KMeans(n_clusters=2).fit(X) \n",
    "output=model.predict([[1,2]]) \n",
    "print(output)"
   ]
  },
  {
   "cell_type": "code",
   "execution_count": null,
   "id": "cdebca94-f0b0-49d5-8c3f-1986ed177ccb",
   "metadata": {},
   "outputs": [],
   "source": []
  }
 ],
 "metadata": {
  "kernelspec": {
   "display_name": "Python 3 (ipykernel)",
   "language": "python",
   "name": "python3"
  },
  "language_info": {
   "codemirror_mode": {
    "name": "ipython",
    "version": 3
   },
   "file_extension": ".py",
   "mimetype": "text/x-python",
   "name": "python",
   "nbconvert_exporter": "python",
   "pygments_lexer": "ipython3",
   "version": "3.11.7"
  }
 },
 "nbformat": 4,
 "nbformat_minor": 5
}
