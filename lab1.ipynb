{
 "cells": [
  {
   "cell_type": "code",
   "execution_count": 1,
   "id": "baa58ddc-7def-42d6-b2c7-bef50563b7a4",
   "metadata": {},
   "outputs": [
    {
     "name": "stdout",
     "output_type": "stream",
     "text": [
      "1D Array: \n",
      "[1 2 3]\n",
      "2D Array: \n",
      "[[1 2 3]\n",
      " [4 5 7]]\n"
     ]
    }
   ],
   "source": [
    "import numpy as np \n",
    "array_1d=np.array([1,2,3]) \n",
    "array_2d=np.array([[1,2,3],[4,5,7]]) \n",
    "print(\"1D Array: \") \n",
    "print(array_1d) \n",
    "print(\"2D Array: \") \n",
    "print(array_2d)"
   ]
  },
  {
   "cell_type": "code",
   "execution_count": 2,
   "id": "b07d0b12-a920-4db1-b654-d7a4ba5a2e99",
   "metadata": {},
   "outputs": [
    {
     "name": "stdout",
     "output_type": "stream",
     "text": [
      "Array 1: \n",
      "[[1 2]\n",
      " [3 4]]\n",
      "Array 2: \n",
      "[[5 6]\n",
      " [7 8]]\n",
      "Addition result:\n",
      "[[ 6  8]\n",
      " [10 12]]\n",
      "Multiplication result:\n",
      "[[ 5 12]\n",
      " [21 32]]\n"
     ]
    }
   ],
   "source": [
    "import numpy as np \n",
    "array1=np.array([[1,2],[3,4]]) \n",
    "array2=np.array([[5,6],[7,8]]) \n",
    "add_res=np.add(array1,array2) \n",
    "mul_res=np.multiply(array1,array2) \n",
    "print(\"Array 1: \") \n",
    "print(array1) \n",
    "print(\"Array 2: \") \n",
    "print(array2) \n",
    "print(\"Addition result:\") \n",
    "print(add_res) \n",
    "print(\"Multiplication result:\") \n",
    "print(mul_res)"
   ]
  },
  {
   "cell_type": "code",
   "execution_count": 3,
   "id": "84b2d476-ae4b-4430-9253-2d079ef1d45c",
   "metadata": {},
   "outputs": [
    {
     "name": "stdout",
     "output_type": "stream",
     "text": [
      "[2 3 4 5]\n"
     ]
    }
   ],
   "source": [
    "import numpy as np \n",
    "arr=np.array([1,2,3,4,5,6,7]) \n",
    "print(arr[1:5])"
   ]
  },
  {
   "cell_type": "code",
   "execution_count": 4,
   "id": "e61a416c-b76b-4d1a-9fcd-4600b93fe2f6",
   "metadata": {},
   "outputs": [
    {
     "name": "stdout",
     "output_type": "stream",
     "text": [
      "[5 6 7]\n"
     ]
    }
   ],
   "source": [
    "import numpy as np \n",
    "arr=np.array([1,2,3,4,5,6,7]) \n",
    "print(arr[4:])"
   ]
  },
  {
   "cell_type": "code",
   "execution_count": 5,
   "id": "85859cff-e4f1-4761-b581-5dbbb89a5665",
   "metadata": {},
   "outputs": [
    {
     "name": "stdout",
     "output_type": "stream",
     "text": [
      "[5 6]\n"
     ]
    }
   ],
   "source": [
    "import numpy as np \n",
    "arr=np.array([1,2,3,4,5,6,7]) \n",
    "print(arr[-3:-1])"
   ]
  },
  {
   "cell_type": "code",
   "execution_count": 6,
   "id": "b3d4a222-dedc-4e76-9c65-aaea50736938",
   "metadata": {},
   "outputs": [
    {
     "name": "stdout",
     "output_type": "stream",
     "text": [
      "Sliced array\n",
      "[[4]]\n"
     ]
    }
   ],
   "source": [
    "import numpy as np \n",
    "arr=np.array([[1,2,3],[4,5,6],[7,8,9]]) \n",
    "print(\"Sliced array\") \n",
    "print(arr[1:2,0:1])"
   ]
  },
  {
   "cell_type": "code",
   "execution_count": 8,
   "id": "e02f3f54-524c-4bab-8197-0afa08772d7f",
   "metadata": {},
   "outputs": [
    {
     "name": "stdout",
     "output_type": "stream",
     "text": [
      "[1 2 3]\n",
      "[4 5 6]\n"
     ]
    }
   ],
   "source": [
    "import numpy as np \n",
    "arr=np.array([[1,2,3],[4,5,6]]) \n",
    "for x in arr: \n",
    " print(x)"
   ]
  },
  {
   "cell_type": "code",
   "execution_count": 9,
   "id": "e29720ba-0054-430d-ab2a-3d71b54bef32",
   "metadata": {},
   "outputs": [
    {
     "name": "stdout",
     "output_type": "stream",
     "text": [
      "1\n",
      "2\n",
      "3\n",
      "4\n",
      "5\n",
      "6\n"
     ]
    }
   ],
   "source": [
    "import numpy as np \n",
    "arr=np.array([[1,2,3],[4,5,6]]) \n",
    "for x in arr: \n",
    "  for y in x: \n",
    "    print(y)"
   ]
  },
  {
   "cell_type": "code",
   "execution_count": 10,
   "id": "08de5dbf-1bed-447d-86bc-ebf4d75e0e3c",
   "metadata": {},
   "outputs": [
    {
     "name": "stdout",
     "output_type": "stream",
     "text": [
      "3d Array\n",
      "[[[1 2 3]]\n",
      "\n",
      " [[6 7 8]]]\n"
     ]
    }
   ],
   "source": [
    "import numpy as np \n",
    "arr=np.array([[[1,2,3]],[[6,7,8]]]) \n",
    "print(\"3d Array\") \n",
    "print(arr) "
   ]
  },
  {
   "cell_type": "code",
   "execution_count": 11,
   "id": "4b4e564b-67df-4d37-b1a3-9f3d3ddb8f91",
   "metadata": {},
   "outputs": [
    {
     "name": "stdout",
     "output_type": "stream",
     "text": [
      "Array transpose\n",
      "[[1 4]\n",
      " [2 5]\n",
      " [3 6]]\n"
     ]
    }
   ],
   "source": [
    "import numpy as np \n",
    "arr=np.array([[1,2,3],[4,5,6]]) \n",
    "print(\"Array transpose\") \n",
    "print(arr.transpose())"
   ]
  },
  {
   "cell_type": "code",
   "execution_count": 12,
   "id": "1f9e0740-84d4-46b1-a2c5-ecc90336b921",
   "metadata": {},
   "outputs": [
    {
     "name": "stdout",
     "output_type": "stream",
     "text": [
      "0.4634191440375356\n",
      "35\n",
      "[[0.22827509 0.57894084 0.00348915]\n",
      " [0.29370818 0.56868773 0.70414162]\n",
      " [0.84295174 0.00976775 0.05032117]]\n"
     ]
    }
   ],
   "source": [
    "import numpy as np \n",
    "random_float=np.random.random() \n",
    "random_int=np.random.randint(0,100) \n",
    "random_array=np.random.rand(3,3) \n",
    "print(random_float) \n",
    "print(random_int) \n",
    "print(random_array)"
   ]
  },
  {
   "cell_type": "code",
   "execution_count": 13,
   "id": "6d991409-cc66-4204-9d96-f0dfc8bca9de",
   "metadata": {},
   "outputs": [
    {
     "name": "stdout",
     "output_type": "stream",
     "text": [
      "Optimization result:\n",
      "Minimum found at: [2.99999998]\n",
      "Optimal function value:  2.5388963550532293e-16\n"
     ]
    }
   ],
   "source": [
    "import numpy as np \n",
    "from scipy.optimize import minimize \n",
    "def objective_function(x):return (x-3)**2 \n",
    "initial_guess=0 \n",
    "result=minimize(objective_function,initial_guess) \n",
    "print(\"Optimization result:\") \n",
    "print(\"Minimum found at:\",result.x) \n",
    "print(\"Optimal function value: \",result.fun)"
   ]
  },
  {
   "cell_type": "code",
   "execution_count": 14,
   "id": "92fe309c-a56c-4d9e-afac-69cf33bbec7f",
   "metadata": {},
   "outputs": [
    {
     "name": "stdout",
     "output_type": "stream",
     "text": [
      "Slope:  1.0\n",
      "Intercept:  1.0\n",
      "R-Squared:  1.0\n"
     ]
    }
   ],
   "source": [
    "import numpy as np \n",
    "from scipy.stats import linregress \n",
    "x=np.array([1,2,3,4,5]) \n",
    "y=np.array([2,3,4,5,6]) \n",
    "slope,intercept,r_value,p_value,std_err=linregress(x,y) \n",
    "print(\"Slope: \",slope) \n",
    "print(\"Intercept: \",intercept) \n",
    "print(\"R-Squared: \",r_value**2)"
   ]
  },
  {
   "cell_type": "code",
   "execution_count": 15,
   "id": "fbc20c53-4b73-4a50-9b1d-a5e82a42b048",
   "metadata": {},
   "outputs": [
    {
     "name": "stdout",
     "output_type": "stream",
     "text": [
      "Matrix multiplication of A and B: \n",
      "[[19 22]\n",
      " [43 50]]\n",
      "\n",
      "Inverse of a matrix A: \n",
      "[[-2.   1. ]\n",
      " [ 1.5 -0.5]]\n",
      "\n",
      "Eigen values of matrix A: \n",
      "[-0.37228132+0.j  5.37228132+0.j]\n",
      "\n",
      "Eigen vectors of matrix A: \n",
      "[[-0.82456484 -0.41597356]\n",
      " [ 0.56576746 -0.90937671]]\n"
     ]
    }
   ],
   "source": [
    "import numpy as np \n",
    "from scipy import linalg \n",
    "A=np.array([[1,2],[3,4]]) \n",
    "B=np.array([[5,6],[7,8]]) \n",
    "c=np.dot(A,B) \n",
    "print(\"Matrix multiplication of A and B: \") \n",
    "print(c) \n",
    "A_inv=linalg.inv(A) \n",
    "print(\"\\nInverse of a matrix A: \") \n",
    "print(A_inv) \n",
    "evalue,evec=linalg.eig(A) \n",
    "print(\"\\nEigen values of matrix A: \") \n",
    "print(evalue) \n",
    "print(\"\\nEigen vectors of matrix A: \") \n",
    "print(evec)"
   ]
  },
  {
   "cell_type": "code",
   "execution_count": 18,
   "id": "3ceac7a9-8440-46dc-9ac2-e70690cbb9e0",
   "metadata": {},
   "outputs": [
    {
     "name": "stdout",
     "output_type": "stream",
     "text": [
      "   emp_id emp_name  salary\n",
      "0      57     john   85000\n",
      "1      58    smith   90000\n",
      "2      59    alice   75000\n",
      "3      60      bob   80000\n",
      "4      61     jack   95000\n"
     ]
    }
   ],
   "source": [
    "import pandas as pd \n",
    "data=pd.read_csv('employee.csv') \n",
    "print(data.head())"
   ]
  },
  {
   "cell_type": "code",
   "execution_count": 21,
   "id": "c09194f7-8884-47c8-9b96-4d6ab157cd9d",
   "metadata": {},
   "outputs": [
    {
     "name": "stdout",
     "output_type": "stream",
     "text": [
      "   emp_id emp_name  salary\n",
      "0      57     john   85000\n",
      "1      58    smith   90000\n",
      "4      61     jack   95000\n"
     ]
    }
   ],
   "source": [
    "import pandas as pd \n",
    "data=pd.read_csv('employee.csv') \n",
    "filtered_data=data[data['salary']>80000] \n",
    "print(filtered_data)"
   ]
  },
  {
   "cell_type": "code",
   "execution_count": 22,
   "id": "3078eac7-dc5f-484d-8eb5-ef92483f6b5d",
   "metadata": {},
   "outputs": [
    {
     "name": "stdout",
     "output_type": "stream",
     "text": [
      "Merged Dataframe: \n",
      "   ProductID ProductName Category  Price  Stock\n",
      "0          1    Widget A  Widgets  19.99    150\n",
      "1          2    Widget B  Widgets  23.99    120\n",
      "2          3    Gadget A  Gadgets  15.99    200\n"
     ]
    }
   ],
   "source": [
    "import pandas as pd \n",
    "df1=pd.DataFrame({ \n",
    "'ProductID':[1,2,3], \n",
    "'ProductName':['Widget A','Widget B','Gadget A'], \n",
    "'Category':['Widgets','Widgets','Gadgets'] \n",
    "}) \n",
    "df2=pd.DataFrame({ \n",
    "'ProductID':[1,2,3,4], \n",
    "'Price':[19.99,23.99,15.99,18.99], \n",
    "'Stock':[150,120,200,100] \n",
    "}) \n",
    "merged_df=pd.merge(df1,df2,on='ProductID') \n",
    "print(\"Merged Dataframe: \") \n",
    "print(merged_df)"
   ]
  },
  {
   "cell_type": "code",
   "execution_count": null,
   "id": "0c6a562c-580a-4f81-a052-73a53211e15d",
   "metadata": {},
   "outputs": [],
   "source": []
  }
 ],
 "metadata": {
  "kernelspec": {
   "display_name": "Python 3 (ipykernel)",
   "language": "python",
   "name": "python3"
  },
  "language_info": {
   "codemirror_mode": {
    "name": "ipython",
    "version": 3
   },
   "file_extension": ".py",
   "mimetype": "text/x-python",
   "name": "python",
   "nbconvert_exporter": "python",
   "pygments_lexer": "ipython3",
   "version": "3.11.7"
  }
 },
 "nbformat": 4,
 "nbformat_minor": 5
}
